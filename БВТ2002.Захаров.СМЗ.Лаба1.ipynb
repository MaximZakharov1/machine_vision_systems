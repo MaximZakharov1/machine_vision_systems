{
 "cells": [
  {
   "cell_type": "code",
   "execution_count": 1,
   "id": "a08c5780",
   "metadata": {},
   "outputs": [],
   "source": [
    "import numpy as np\n",
    "import torch\n",
    "import torch.nn as nn"
   ]
  },
  {
   "cell_type": "code",
   "execution_count": 2,
   "id": "f8048f5d",
   "metadata": {},
   "outputs": [],
   "source": [
    "class MyConv2D:\n",
    "    def __init__(self, in_channels, out_channels, kernel_size, stride=1, padding=0):\n",
    "        self.in_channels = in_channels\n",
    "        self.out_channels = out_channels\n",
    "        self.kernel_size = kernel_size\n",
    "        self.stride = stride\n",
    "        self.padding = padding\n",
    "        \n",
    "        self.weights = np.random.randn(out_channels, in_channels, kernel_size, kernel_size)\n",
    "        self.bias = np.random.randn(out_channels)\n",
    "       \n",
    "    def forward(self, inputs):\n",
    "        batch_size, in_channels, height, width = inputs.shape\n",
    "        \n",
    "        # Рассчитываем размеры выходного изображения\n",
    "        output_height = (height - self.kernel_size + 2 * self.padding) // self.stride + 1\n",
    "        output_width = (width - self.kernel_size + 2 * self.padding) // self.stride + 1\n",
    "        \n",
    "        padded_inputs = np.pad(inputs, ((0, 0), (0, 0), (self.padding, self.padding), (self.padding, self.padding)), mode='constant')\n",
    "        \n",
    "        # массив для выходных данных\n",
    "        outputs = np.zeros((batch_size, self.out_channels, output_height, output_width))\n",
    "        \n",
    "        # Проходим по изображениям в батче\n",
    "        for b in range(batch_size):\n",
    "            # Проходим по выходным каналам\n",
    "            for c in range(self.out_channels):\n",
    "                # Проходим по выходным пикселям\n",
    "                for h_out in range(output_height):\n",
    "                    for w_out in range(output_width):\n",
    "                        h_start = h_out * self.stride\n",
    "                        w_start = w_out * self.stride\n",
    "                        h_end = h_start + self.kernel_size\n",
    "                        w_end = w_start + self.kernel_size\n",
    "                        \n",
    "                        outputs[b, c, h_out, w_out] = np.sum(padded_inputs[b, :, h_start:h_end, w_start:w_end] * self.weights[c]) + self.bias[c]\n",
    "        \n",
    "        return outputs\n"
   ]
  },
  {
   "cell_type": "code",
   "execution_count": 3,
   "id": "8e5f88c6",
   "metadata": {},
   "outputs": [],
   "source": [
    "# Функция для проведения тестирования\n",
    "def test_conv2d(inp_in_channels, inp_out_channels, inp_kernel_size, inp_stride, inp_padding):\n",
    "    np.random.seed(0)\n",
    "    \n",
    "    # Создание экземпляра класса\n",
    "    conv = MyConv2D(in_channels=inp_in_channels, out_channels=inp_out_channels, kernel_size=inp_kernel_size, stride=inp_stride, padding=inp_padding)\n",
    "    \n",
    "    # Создание случайных входных данных\n",
    "    inputs = np.random.randn(1, inp_in_channels, 5, 5)\n",
    "    \n",
    "    # Вычисление ожидаемого результата с помощью класса Conv2D из pytorch\n",
    "    \n",
    "    inputs_tensor = torch.from_numpy(inputs)\n",
    "    \n",
    "    conv_torch = nn.Conv2d(in_channels=inp_in_channels, out_channels=inp_out_channels, kernel_size=inp_kernel_size, stride=inp_stride, padding=inp_padding)\n",
    "    conv_torch.weight.data = torch.from_numpy(conv.weights)\n",
    "    conv_torch.bias.data = torch.from_numpy(conv.bias)\n",
    "    \n",
    "    expected_outputs_tensor = conv_torch(inputs_tensor).detach().numpy()\n",
    "    \n",
    "    # Вычисление выходных данных с помощью нашей реализации\n",
    "    outputs = conv.forward(inputs)\n",
    "    \n",
    "    # Сравнение результатов\n",
    "    assert np.allclose(outputs, expected_outputs_tensor), \"Тест провален!\"\n",
    "    \n",
    "    print(\"Тест пройден успешно!\")"
   ]
  },
  {
   "cell_type": "code",
   "execution_count": 4,
   "id": "440dc376",
   "metadata": {},
   "outputs": [
    {
     "name": "stdout",
     "output_type": "stream",
     "text": [
      "Тест пройден успешно!\n"
     ]
    }
   ],
   "source": [
    "test_conv2d(3, 2, 3, 1, 1)"
   ]
  },
  {
   "cell_type": "code",
   "execution_count": 5,
   "id": "dd2edc38",
   "metadata": {},
   "outputs": [
    {
     "name": "stdout",
     "output_type": "stream",
     "text": [
      "Тест пройден успешно!\n"
     ]
    }
   ],
   "source": [
    "test_conv2d(6, 32, 2, 1, 3)"
   ]
  },
  {
   "cell_type": "code",
   "execution_count": 6,
   "id": "e04f406a",
   "metadata": {},
   "outputs": [
    {
     "name": "stdout",
     "output_type": "stream",
     "text": [
      "Тест пройден успешно!\n"
     ]
    }
   ],
   "source": [
    "test_conv2d(4, 16, 4, 2, 4)"
   ]
  },
  {
   "cell_type": "code",
   "execution_count": null,
   "id": "b2553cf0",
   "metadata": {},
   "outputs": [],
   "source": []
  }
 ],
 "metadata": {
  "kernelspec": {
   "display_name": "Python 3 (ipykernel)",
   "language": "python",
   "name": "python3"
  },
  "language_info": {
   "codemirror_mode": {
    "name": "ipython",
    "version": 3
   },
   "file_extension": ".py",
   "mimetype": "text/x-python",
   "name": "python",
   "nbconvert_exporter": "python",
   "pygments_lexer": "ipython3",
   "version": "3.9.13"
  }
 },
 "nbformat": 4,
 "nbformat_minor": 5
}
